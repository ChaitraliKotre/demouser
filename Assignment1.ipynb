{
 "cells": [
  {
   "cell_type": "code",
   "execution_count": 8,
   "id": "66f27b72-a011-4578-9be5-4167826061d2",
   "metadata": {},
   "outputs": [
    {
     "name": "stdout",
     "output_type": "stream",
     "text": [
      "14 Akash Choudhary\n",
      "\n",
      "Concatenated String: Hello, World!\n",
      "Length of String: 13\n",
      "First Character: H\n",
      "Last Character: !\n",
      "Substring: World\n",
      "Repeated String: Hello, Hello, Hello, \n",
      "Uppercase: HELLO, \n",
      "Lowercase: world!\n",
      "Replaced String: Hello, Moto!\n",
      "Contains 'World': True\n",
      "Occurrences of 'o': 3\n",
      "Formatted String: 'Hello, Moto!' is a voice modulation of Motorola.\n"
     ]
    }
   ],
   "source": [
    "print(\"14 Akash Choudhary\\n\")\n",
    "\n",
    "string1 = \"Hello, \"\n",
    "string2 = \"World!\"\n",
    "\n",
    "concatenated_string = string1 + string2\n",
    "print(\"Concatenated String:\", concatenated_string)\n",
    "\n",
    "length_of_string = len(concatenated_string)\n",
    "print(\"Length of String:\", length_of_string)\n",
    "\n",
    "first_char = concatenated_string[0]\n",
    "last_char = concatenated_string[-1]\n",
    "print(\"First Character:\", first_char)\n",
    "print(\"Last Character:\", last_char)\n",
    "\n",
    "substring = concatenated_string[7:12]\n",
    "print(\"Substring:\", substring)\n",
    "\n",
    "repeated_string = string1 * 3\n",
    "print(\"Repeated String:\", repeated_string)\n",
    "\n",
    "uppercase_string = string1.upper()\n",
    "print(\"Uppercase:\", uppercase_string)\n",
    "\n",
    "lowercase_string = string2.lower()\n",
    "print(\"Lowercase:\", lowercase_string)\n",
    "\n",
    "replaced_string = concatenated_string.replace('World', 'Moto')\n",
    "print(\"Replaced String:\", replaced_string)\n",
    "\n",
    "contains_substring = \"World\" in concatenated_string\n",
    "print(\"Contains 'World':\", contains_substring)\n",
    "\n",
    "count_occurrences = replaced_string.count('o')\n",
    "print(\"Occurrences of 'o':\", count_occurrences)\n",
    "\n",
    "formatted_string = \"'{}' is a voice modulation of Motorola.\".format(replaced_string)\n",
    "print(\"Formatted String:\", formatted_string)"
   ]
  },
  {
   "cell_type": "code",
   "execution_count": 90,
   "id": "780d672d-804a-4a6e-9cbd-c30c6ed041d5",
   "metadata": {},
   "outputs": [
    {
     "name": "stdout",
     "output_type": "stream",
     "text": [
      "14 Akash Choudhary\n",
      "\n",
      "Twinkle, twinkle, little star,\n",
      "    How I wonder what you are!\n",
      "        Up above the world so high,\n",
      "            Like a diamond in the sky.\n",
      "Twinkle, twinkle, little star,\n",
      "                    How I wonder what you are!\n"
     ]
    }
   ],
   "source": [
    "print(\"14 Akash Choudhary\\n\")\n",
    "\n",
    "sample_string = \"Twinkle, twinkle, little star,. How I wonder what you are!. Up above the world so high,. Like a diamond in the sky.. Twinkle, twinkle, little star,. How I wonder what you are!\"\n",
    "\n",
    "lines = sample_string.split('. ')\n",
    "\n",
    "for i, line in enumerate(lines):\n",
    "    if i == 0 or i == 4:\n",
    "        print(line)\n",
    "    else:\n",
    "        print(\" \" * i * 4 + line)"
   ]
  },
  {
   "cell_type": "code",
   "execution_count": 96,
   "id": "0ac33db3-9c7a-48db-a920-044acebef49a",
   "metadata": {},
   "outputs": [
    {
     "name": "stdout",
     "output_type": "stream",
     "text": [
      "14 Akash Choudhary\n",
      "\n",
      "Set 1: {1, 2, 3, 4, 5}\n",
      "Set 2: {4, 5, 6, 7, 8}\n",
      "Union: {1, 2, 3, 4, 5, 6, 7, 8}\n",
      "Intersection: {4, 5}\n",
      "After adding element to set1: {1, 2, 3, 4, 5, 6}\n",
      "After removing element from set2: {4, 5, 7, 8}\n"
     ]
    }
   ],
   "source": [
    "print(\"14 Akash Choudhary\\n\")\n",
    "\n",
    "set1 = {1, 2, 3, 4, 5}\n",
    "print(\"Set 1:\", set1)\n",
    "\n",
    "set2 = {4, 5, 6, 7, 8}\n",
    "print(\"Set 2:\", set2)\n",
    "\n",
    "union_set = set1.union(set2)\n",
    "print(\"Union:\", union_set)\n",
    "\n",
    "intersection_set = set1.intersection(set2)\n",
    "print(\"Intersection:\", intersection_set)\n",
    "\n",
    "set1.add(6)\n",
    "print(\"After adding element to set1:\", set1)\n",
    "\n",
    "set2.remove(6)\n",
    "print(\"After removing element from set2:\", set2)"
   ]
  },
  {
   "cell_type": "code",
   "execution_count": 98,
   "id": "9ff788be-44e8-46fe-b6be-12461fa881dd",
   "metadata": {},
   "outputs": [
    {
     "name": "stdout",
     "output_type": "stream",
     "text": [
      "14 Akash Choudhary\n",
      "\n",
      "Original List: [1, 2, 3, 4, 5]\n",
      "After Appending 6: [1, 2, 3, 4, 5, 6]\n",
      "After Removing 3: [1, 2, 4, 5, 6]\n",
      "Element at index 2: 4\n",
      "After Modifying Element at Index 1: [1, 10, 4, 5, 6]\n",
      "Length of the List: 5\n",
      "Subset of the List: [10, 4, 5]\n",
      "Reverse List: [6, 5, 4, 10, 1]\n"
     ]
    }
   ],
   "source": [
    "print(\"14 Akash Choudhary\\n\")\n",
    "\n",
    "my_list = [1, 2, 3, 4, 5]\n",
    "print(\"Original List:\", my_list)\n",
    "\n",
    "my_list.append(6)\n",
    "print(\"After Appending 6:\", my_list)\n",
    "\n",
    "my_list.remove(3)\n",
    "print(\"After Removing 3:\", my_list)\n",
    "\n",
    "print(\"Element at index 2:\", my_list[2])\n",
    "\n",
    "my_list[1] = 10\n",
    "print(\"After Modifying Element at Index 1:\", my_list)\n",
    "\n",
    "list_length = len(my_list)\n",
    "print(\"Length of the List:\", list_length)\n",
    "\n",
    "subset = my_list[1:4]\n",
    "print(\"Subset of the List:\", subset)\n",
    "\n",
    "reversed_list = my_list[::-1]\n",
    "print(\"Reverse List:\", reversed_list)"
   ]
  },
  {
   "cell_type": "code",
   "execution_count": 19,
   "id": "ba40cb31-e3c6-4419-b92f-0d919e283c9d",
   "metadata": {},
   "outputs": [
    {
     "name": "stdout",
     "output_type": "stream",
     "text": [
      "14 Akash Choudhary\n",
      "\n",
      "Dictionary: {'name': 'Annupurna Gupta', 'age': 21, 'city': 'Mumbai'}\n",
      "Name: Annupurna Gupta\n",
      "Age: 21\n",
      "Dictionary (Age Updated): {'name': 'Annupurna Gupta', 'age': 31, 'city': 'Mumbai'}\n",
      "Dictionary (Key-Value Added): {'name': 'Annupurna Gupta', 'age': 31, 'city': 'Mumbai', 'occupation': 'Software Tester'}\n",
      "Dictionary (Key-Value Deleted): {'name': 'Annupurna Gupta', 'age': 31, 'occupation': 'Software Tester'}\n",
      "Dictionary Keys: dict_keys(['name', 'age', 'occupation'])\n"
     ]
    }
   ],
   "source": [
    "print(\"14 Akash Choudhary\\n\")\n",
    "\n",
    "my_dict = {}\n",
    "\n",
    "person = {\n",
    "    'name': 'Annupurna Gupta',\n",
    "    'age': 21,\n",
    "    'city': 'Mumbai'\n",
    "}\n",
    "\n",
    "print(\"Dictionary:\", person)\n",
    "\n",
    "print(\"Name:\", person['name'])\n",
    "print(\"Age:\", person['age'])\n",
    "\n",
    "person['age'] = 31\n",
    "print(\"Dictionary (Age Updated):\", person)\n",
    "\n",
    "person['occupation'] = 'Software Tester'\n",
    "print(\"Dictionary (Key-Value Added):\", person)\n",
    "\n",
    "del person['city']\n",
    "print(\"Dictionary (Key-Value Deleted):\", person)\n",
    "\n",
    "print(\"Dictionary Keys:\", person.keys())"
   ]
  },
  {
   "cell_type": "code",
   "execution_count": 102,
   "id": "d0bcd921-0a42-433a-a864-037c0a6134e7",
   "metadata": {},
   "outputs": [
    {
     "name": "stdout",
     "output_type": "stream",
     "text": [
      "14 Akash Choudhary\n",
      "\n",
      "Addition Result: 8\n",
      "Subtraction Result: 5\n",
      "Multiplication Result: 24\n",
      "Division Result: 4.0\n",
      "Exponentiation Result: 8\n",
      "Modulo Result: 1\n",
      "Floor Division Result: 3\n",
      "Square Root Result: 5.0\n",
      "RoundOf Result: 13\n"
     ]
    }
   ],
   "source": [
    "print(\"14 Akash Choudhary\\n\")\n",
    "\n",
    "result_addition = 5 + 3\n",
    "print(\"Addition Result:\", result_addition)\n",
    "\n",
    "result_subtraction = 8 - 3\n",
    "print(\"Subtraction Result:\", result_subtraction)\n",
    "\n",
    "result_multiplication = 4 * 6\n",
    "print(\"Multiplication Result:\", result_multiplication)\n",
    "\n",
    "result_division = 12 / 3\n",
    "print(\"Division Result:\", result_division)\n",
    "\n",
    "result_exponentiation = 2 ** 3\n",
    "print(\"Exponentiation Result:\", result_exponentiation)\n",
    "\n",
    "result_modulo = 10 % 3\n",
    "print(\"Modulo Result:\", result_modulo)\n",
    "\n",
    "result_floor_division = 15 // 4\n",
    "print(\"Floor Division Result:\", result_floor_division)\n",
    "\n",
    "import math\n",
    "\n",
    "result_sqrt = math.sqrt(25)\n",
    "print(\"Square Root Result:\", result_sqrt)\n",
    "\n",
    "roundof_result = round(12.682)\n",
    "print(\"RoundOf Result:\", roundof_result)"
   ]
  },
  {
   "cell_type": "code",
   "execution_count": 104,
   "id": "89b5d201-a7c7-4f62-b47b-0c75717f19d9",
   "metadata": {},
   "outputs": [
    {
     "name": "stdout",
     "output_type": "stream",
     "text": [
      "14 Akash Choudhary\n",
      "\n"
     ]
    },
    {
     "name": "stdin",
     "output_type": "stream",
     "text": [
      "Enter the radius of the circle:  4\n"
     ]
    },
    {
     "name": "stdout",
     "output_type": "stream",
     "text": [
      "The area of the circle with radius 4.0 is: 50.27\n"
     ]
    }
   ],
   "source": [
    "print(\"14 Akash Choudhary\\n\")\n",
    "\n",
    "import math\n",
    "\n",
    "def calculate_circle_area(radius):\n",
    "    area = math.pi * radius**2\n",
    "    return area\n",
    "\n",
    "radius = float(input(\"Enter the radius of the circle: \"))\n",
    "\n",
    "area = calculate_circle_area(radius)\n",
    "print(f\"The area of the circle with radius {radius} is: {area:.2f}\")"
   ]
  },
  {
   "cell_type": "code",
   "execution_count": 106,
   "id": "91149cd9-ff42-40fc-abfe-8d397aebfdc7",
   "metadata": {},
   "outputs": [
    {
     "name": "stdout",
     "output_type": "stream",
     "text": [
      "14 Akash Choudhary\n",
      "\n"
     ]
    },
    {
     "name": "stdin",
     "output_type": "stream",
     "text": [
      "Enter a sequence of comma-separated numbers:  4, 6, 3, 10\n"
     ]
    },
    {
     "name": "stdout",
     "output_type": "stream",
     "text": [
      "Generated List: [4, 6, 3, 10]\n",
      "Generated Tuple: (4, 6, 3, 10)\n"
     ]
    }
   ],
   "source": [
    "print(\"14 Akash Choudhary\\n\")\n",
    "\n",
    "input_numbers = input(\"Enter a sequence of comma-separated numbers: \")\n",
    "\n",
    "numbers_list = [int(num) for num in input_numbers.split(',')]\n",
    "numbers_tuple = tuple(numbers_list)\n",
    "\n",
    "print(\"Generated List:\", numbers_list)\n",
    "print(\"Generated Tuple:\", numbers_tuple)"
   ]
  },
  {
   "cell_type": "code",
   "execution_count": 108,
   "id": "447c4ffa-499e-4aaa-b7c0-c52fd611db19",
   "metadata": {},
   "outputs": [
    {
     "name": "stdout",
     "output_type": "stream",
     "text": [
      "14 Akash Choudhary\n",
      "\n",
      "Color List: ['Red', 'Green', 'White', 'Black']\n",
      "First Color: Red\n",
      "Last Color: Black\n"
     ]
    }
   ],
   "source": [
    "print(\"14 Akash Choudhary\\n\")\n",
    "\n",
    "color_list = [\"Red\", \"Green\", \"White\", \"Black\"]\n",
    "\n",
    "print(\"Color List:\", color_list)\n",
    "print(\"First Color:\", color_list[0])\n",
    "print(\"Last Color:\", color_list[-1])"
   ]
  },
  {
   "cell_type": "code",
   "execution_count": 110,
   "id": "e219c087-d57b-41b1-95b5-a0ae898ae587",
   "metadata": {},
   "outputs": [
    {
     "name": "stdout",
     "output_type": "stream",
     "text": [
      "14 Akash Choudhary\n",
      "\n",
      "Number of days between 2014-07-02 and 2014-07-11: 9 days\n"
     ]
    }
   ],
   "source": [
    "print(\"14 Akash Choudhary\\n\")\n",
    "\n",
    "from datetime import date\n",
    "\n",
    "date1 = date(2014, 7, 2)\n",
    "date2 = date(2014, 7, 11)\n",
    "\n",
    "days_difference = (date2 - date1).days\n",
    "\n",
    "print(f\"Number of days between {date1} and {date2}: {days_difference} days\")"
   ]
  },
  {
   "cell_type": "code",
   "execution_count": 3,
   "id": "bf8e82c5-c488-4a54-a4c3-13ed835dbff9",
   "metadata": {},
   "outputs": [
    {
     "name": "stdout",
     "output_type": "stream",
     "text": [
      "14 Akash Choudhary\n",
      "\n",
      "Current Date and Time: 2024-02-24 13:55:35\n"
     ]
    }
   ],
   "source": [
    "print(\"14 Akash Choudhary\\n\")\n",
    "\n",
    "import datetime\n",
    "\n",
    "current_datetime = datetime.datetime.now()\n",
    "formatted_datetime = current_datetime.strftime(\"%Y-%m-%d %H:%M:%S\")\n",
    "\n",
    "print(\"Current Date and Time:\", formatted_datetime)"
   ]
  },
  {
   "cell_type": "code",
   "execution_count": 5,
   "id": "313952e8-f22d-44aa-acb7-1097ae8e2b3c",
   "metadata": {},
   "outputs": [
    {
     "name": "stdout",
     "output_type": "stream",
     "text": [
      "14 Akash Choudhary\n",
      "\n"
     ]
    },
    {
     "name": "stdin",
     "output_type": "stream",
     "text": [
      "Enter the year:  2001\n",
      "Enter the month (1-12):  8\n"
     ]
    },
    {
     "name": "stdout",
     "output_type": "stream",
     "text": [
      "    August 2001\n",
      "Mo Tu We Th Fr Sa Su\n",
      "       1  2  3  4  5\n",
      " 6  7  8  9 10 11 12\n",
      "13 14 15 16 17 18 19\n",
      "20 21 22 23 24 25 26\n",
      "27 28 29 30 31\n",
      "\n"
     ]
    }
   ],
   "source": [
    "print(\"14 Akash Choudhary\\n\")\n",
    "\n",
    "import calendar\n",
    "\n",
    "year = int(input(\"Enter the year: \"))\n",
    "month = int(input(\"Enter the month (1-12): \"))\n",
    "\n",
    "cal = calendar.month(year, month)\n",
    "print(cal)"
   ]
  },
  {
   "cell_type": "code",
   "execution_count": 11,
   "id": "ccaf0347-c042-4b48-9790-6c93465cb6c8",
   "metadata": {},
   "outputs": [
    {
     "name": "stdout",
     "output_type": "stream",
     "text": [
      "14 Akash Choudhary\n",
      "\n",
      "Array 1: [1 2 3 4]\n",
      "Array 2: [5 6 7 8]\n",
      "Result after addition: [ 6  8 10 12]\n"
     ]
    }
   ],
   "source": [
    "print(\"14 Akash Choudhary\\n\")\n",
    "\n",
    "import numpy as np\n",
    "\n",
    "array1 = np.array([1, 2, 3, 4])\n",
    "array2 = np.array([5, 6, 7, 8])\n",
    "\n",
    "result_array = np.add(array1, array2)\n",
    "\n",
    "print(\"Array 1:\", array1)\n",
    "print(\"Array 2:\", array2)\n",
    "print(\"Result after addition:\", result_array)"
   ]
  },
  {
   "cell_type": "code",
   "execution_count": 24,
   "id": "825650bd-a615-4656-b85e-8707fd78bbcd",
   "metadata": {},
   "outputs": [
    {
     "name": "stdout",
     "output_type": "stream",
     "text": [
      "14 Akash Choudhary\n",
      "\n",
      "Employee Data:\n",
      "   Employee Id         Full Name                  Job Title\n",
      "0          101   Akash Choudhary            Software Tester\n",
      "1          102  Sanjeevani Gupta       Full Stack Developer\n",
      "2          103        Nidhi Kini             UI/UX Designer\n",
      "3          104      Siddhi Kotre        Front End Developer\n",
      "4          105       Yash Mewada         Back End Developer\n",
      "5          106   Annapurna Gupta  Senior Software Developer\n"
     ]
    }
   ],
   "source": [
    "print(\"14 Akash Choudhary\\n\")\n",
    "\n",
    "import pandas as pd\n",
    "\n",
    "employee_data = pd.read_csv(\"Book1.csv\")\n",
    "print(\"Employee Data:\")\n",
    "print(employee_data)"
   ]
  },
  {
   "cell_type": "code",
   "execution_count": null,
   "id": "82a61747-7f66-444a-93ff-b7cd6fdf48a1",
   "metadata": {},
   "outputs": [],
   "source": []
  }
 ],
 "metadata": {
  "kernelspec": {
   "display_name": "anaconda-panel-2023.05-py310",
   "language": "python",
   "name": "conda-env-anaconda-panel-2023.05-py310-py"
  },
  "language_info": {
   "codemirror_mode": {
    "name": "ipython",
    "version": 3
   },
   "file_extension": ".py",
   "mimetype": "text/x-python",
   "name": "python",
   "nbconvert_exporter": "python",
   "pygments_lexer": "ipython3",
   "version": "3.11.5"
  }
 },
 "nbformat": 4,
 "nbformat_minor": 5
}
